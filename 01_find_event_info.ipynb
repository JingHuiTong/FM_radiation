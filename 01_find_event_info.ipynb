{
 "cells": [
  {
   "cell_type": "code",
   "execution_count": 173,
   "id": "bfbe4332-b930-4748-aef1-ddee7fe15068",
   "metadata": {},
   "outputs": [],
   "source": [
    "import pandas as pd\n",
    "import os\n",
    "from obspy import UTCDateTime\n",
    "from obspy.geodetics.base import gps2dist_azimuth,kilometer2degrees\n",
    "from obspy.clients.fdsn.client import Client\n",
    "client = Client(\"IRIS\")"
   ]
  },
  {
   "cell_type": "code",
   "execution_count": 196,
   "id": "2c7ab12e-f9f6-4f48-a724-48c4e8420ca6",
   "metadata": {},
   "outputs": [],
   "source": [
    "name = ['Lon','Lat','Depth','Mag','strike1','dip1','rake1','strike2','dip2','rake2','mant','Exp','Date','Name']\n",
    "meca = pd.read_csv('meca.gmt',sep='\\s+',names=name,skiprows=33210)"
   ]
  },
  {
   "cell_type": "code",
   "execution_count": 197,
   "id": "ba00dea6-88bf-43d2-9bc3-4cd128605a18",
   "metadata": {},
   "outputs": [],
   "source": [
    "SKKSEvent = pd.read_csv('EventList.csv')\n",
    "Station = pd.read_csv('/Volumes/home/Research/GMT/Station_distribution/Station_info.csv')"
   ]
  },
  {
   "cell_type": "code",
   "execution_count": 198,
   "id": "748c3541-5d96-4717-bf1f-3806cd1b0bc1",
   "metadata": {},
   "outputs": [],
   "source": [
    "def checktime(time):\n",
    "    origin = time.rsplit(':')[0]\n",
    "    newmm  = str((int(time.rsplit(':')[1])+1)).zfill(2)\n",
    "    newss  = '00'\n",
    "    ntime  = f'{origin}:{newmm}:{newss}'\n",
    "    return ntime"
   ]
  },
  {
   "cell_type": "code",
   "execution_count": 203,
   "id": "db3bae1d-5b5d-4556-bb2c-89cb6ff10491",
   "metadata": {},
   "outputs": [],
   "source": [
    "for i in range(len(SKKSEvent)):\n",
    "    STA = SKKSEvent['Station'][i]\n",
    "    event   = SKKSEvent['Event'][i]\n",
    "    yyyymmdd= event.rsplit('_')[0]\n",
    "    hhmmss  = event.rsplit('_')[1]\n",
    "    UTCtime = UTCDateTime(f'{yyyymmdd}{hhmmss}')\n",
    "    \n",
    "    stalon  = Station['lon'][Station['Station'] == STA].values[0]\n",
    "    stalat  = Station['lat'][Station['Station'] == STA].values[0]\n",
    "    for j in range(len(meca)):\n",
    "        time = meca['Date'][j][:-2]\n",
    "        if int(time[-2:]) ==60:\n",
    "            time = checktime(time) \n",
    "        if UTCDateTime(time) == UTCtime:\n",
    "            eventmeca = meca[j:j+1]\n",
    "            evtlon = eventmeca['Lon'].values[0]\n",
    "            evtlat = eventmeca['Lat'].values[0]\n",
    "            evtdep = eventmeca['Depth'].values[0]\n",
    "            strike = eventmeca['strike1'].values[0]\n",
    "            dip    = eventmeca['dip1'].values[0]\n",
    "            rake   = eventmeca['rake1'].values[0]\n",
    "            dist,az,baz = gps2dist_azimuth(evtlat,evtlon,stalat,stalon)\n",
    "            deg    = kilometer2degrees(dist/1000)\n",
    "            cata   = client.get_events(starttime=UTCtime, endtime=UTCtime+60, minmagnitude=6)\n",
    "            mag    = cata[0].magnitudes[0].mag\n",
    "##======================== Into C-shell to run  \n",
    "            EVENT = f'{yyyymmdd}{hhmmss}'\n",
    "\n",
    "            if deg <=140:\n",
    "                if not os.path.isdir(EVENT):\n",
    "                    os.mkdir(EVENT)\n",
    "                phase = 'SKS'\n",
    "                cmd = '''\n",
    "                echo %(EVENT)s %(strike)i %(dip)i %(rake)i %(phase)s %(evtlat)f %(evtlon)f %(evtdep)f %(mag)f %(deg)f %(baz)f %(stalat)f %(stalon)f > %(EVENT)s/%(phase)s_info.txt\n",
    "                ''' %locals()\n",
    "                os.system(cmd)\n",
    "            \n",
    "                cmd = '''\n",
    "                csh c14.radpat_pierce_1 %(EVENT)s/%(phase)s_info.txt\n",
    "                '''%locals()\n",
    "                os.system(cmd)\n",
    "            "
   ]
  },
  {
   "cell_type": "code",
   "execution_count": null,
   "id": "f67b01c8-d2c3-4beb-a3f4-25afee7eb953",
   "metadata": {},
   "outputs": [],
   "source": []
  }
 ],
 "metadata": {
  "kernelspec": {
   "display_name": "Python 3",
   "language": "python",
   "name": "python3"
  },
  "language_info": {
   "codemirror_mode": {
    "name": "ipython",
    "version": 3
   },
   "file_extension": ".py",
   "mimetype": "text/x-python",
   "name": "python",
   "nbconvert_exporter": "python",
   "pygments_lexer": "ipython3",
   "version": "3.8.8"
  }
 },
 "nbformat": 4,
 "nbformat_minor": 5
}
